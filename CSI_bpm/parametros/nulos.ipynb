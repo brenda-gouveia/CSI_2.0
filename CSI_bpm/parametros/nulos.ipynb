{
 "cells": [
  {
   "cell_type": "code",
   "execution_count": 1,
   "metadata": {},
   "outputs": [],
   "source": [
    "import pandas as pd\n",
    "import pickle"
   ]
  },
  {
   "cell_type": "code",
   "execution_count": 2,
   "metadata": {},
   "outputs": [],
   "source": [
    "par1 = pd.read_excel(\"parametro 1\\\\parametro_um.xlsx\")\n",
    "par2 = pd.read_excel(\"parametro 2\\\\parametro_segundo.xlsx\")\n",
    "par3 = pd.read_excel(\"parametro 3\\\\terceiro_parametro.xlsx\")\n",
    "par4 = pd.read_excel(\"parametro 4\\\\quarto_parametro.xlsx\")\n",
    "par5 = pd.read_excel(\"parametro 5\\\\quinto_parametro.xlsx\")\n",
    "par6 = pd.read_excel(\"parametro 6\\\\sexto_parametro.xlsx\")\n",
    "par7 = pd.read_excel(\"parametro 7\\\\setimo_parametro.xlsx\")\n",
    "relogio = pd.read_excel(\"relógio\\\\tabela_relogio.xlsx\")"
   ]
  },
  {
   "cell_type": "code",
   "execution_count": 3,
   "metadata": {},
   "outputs": [],
   "source": [
    "relogio = relogio.drop([\"Unnamed: 0\"], axis = 1) # retirar coluna\n",
    "par1 = par1.drop([\"Unnamed: 0\"], axis = 1)\n",
    "par2 = par2.drop([\"Unnamed: 0\"], axis = 1)\n",
    "par3 = par3.drop([\"Unnamed: 0\"], axis = 1)\n",
    "par4 = par4.drop([\"Unnamed: 0\"], axis = 1)\n",
    "par5 = par5.drop([\"Unnamed: 0\"], axis = 1)\n",
    "par6 = par6.drop([\"Unnamed: 0\"], axis = 1)\n",
    "par7 = par7.drop([\"Unnamed: 0\"], axis = 1)"
   ]
  },
  {
   "attachments": {},
   "cell_type": "markdown",
   "metadata": {},
   "source": [
    "## Relogio : remoção de nulos"
   ]
  },
  {
   "cell_type": "code",
   "execution_count": 4,
   "metadata": {},
   "outputs": [],
   "source": [
    "x = relogio.isnull().sum() ## 005, 006, 042, 043, 064, 068, 076, 109, 112\n",
    "\n",
    "# o 004 e 117 foram ignorados"
   ]
  },
  {
   "cell_type": "code",
   "execution_count": 5,
   "metadata": {},
   "outputs": [],
   "source": [
    "\n",
    "relogio = relogio.drop([\"005\"], axis = 1)\n",
    "relogio = relogio.drop([\"006\"], axis = 1)\n",
    "relogio = relogio.drop([\"042\"], axis = 1)\n",
    "relogio = relogio.drop([\"043\"], axis = 1)\n",
    "relogio = relogio.drop([\"064\"], axis = 1)\n",
    "relogio = relogio.drop([\"068\"], axis = 1)\n",
    "relogio = relogio.drop([\"076\"], axis = 1)\n",
    "relogio = relogio.drop([\"109\"], axis = 1)\n",
    "relogio = relogio.drop([\"112\"], axis = 1)\n"
   ]
  },
  {
   "attachments": {},
   "cell_type": "markdown",
   "metadata": {},
   "source": [
    "## Parametro 1"
   ]
  },
  {
   "cell_type": "code",
   "execution_count": 6,
   "metadata": {},
   "outputs": [],
   "source": [
    "\n",
    "def nulos(obj):\n",
    "    variaveis = [\"004\",\"005\", \"006\", \"042\", \"043\",\"064\",\"068\",\"076\",\"109\",\"112\", \"117\"]\n",
    "\n",
    "    for i in variaveis:\n",
    "        obj = obj.drop([i], axis=1)\n",
    "\n",
    "    return obj"
   ]
  },
  {
   "cell_type": "code",
   "execution_count": 7,
   "metadata": {},
   "outputs": [],
   "source": [
    "par1 = nulos(par1)\n",
    "\n",
    "par2 = nulos(par2)\n",
    "\n",
    "par3 = nulos(par3)\n",
    "\n",
    "par4 = nulos(par4)\n",
    "\n",
    "par5 = nulos(par5)\n",
    "\n",
    "par6 = nulos(par6)\n",
    "\n",
    "par7 = nulos(par7)"
   ]
  },
  {
   "cell_type": "code",
   "execution_count": 8,
   "metadata": {},
   "outputs": [],
   "source": [
    "with open (\"variaveis.pkl\", mode ='wb') as f:\n",
    "    pickle.dump([relogio, par1, par2, par3, par4, par5, par6, par7], f)"
   ]
  }
 ],
 "metadata": {
  "kernelspec": {
   "display_name": "csiexplorer",
   "language": "python",
   "name": "python3"
  },
  "language_info": {
   "codemirror_mode": {
    "name": "ipython",
    "version": 3
   },
   "file_extension": ".py",
   "mimetype": "text/x-python",
   "name": "python",
   "nbconvert_exporter": "python",
   "pygments_lexer": "ipython3",
   "version": "3.10.9"
  },
  "orig_nbformat": 4
 },
 "nbformat": 4,
 "nbformat_minor": 2
}
